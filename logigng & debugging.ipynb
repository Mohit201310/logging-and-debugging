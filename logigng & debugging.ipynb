{
 "cells": [
  {
   "cell_type": "code",
   "execution_count": 1,
   "id": "6dd47a5d-5042-4de2-9682-612637f2d167",
   "metadata": {},
   "outputs": [
    {
     "name": "stdout",
     "output_type": "stream",
     "text": [
      "30\n",
      "10\n",
      "200\n",
      "2.0\n"
     ]
    }
   ],
   "source": [
    "def add(x,y):\n",
    "    return x+y\n",
    "\n",
    "def subtract(x,y):\n",
    "    return x-y\n",
    "\n",
    "def multiply(x,y):\n",
    "    return x*y\n",
    "\n",
    "def divide(x,y):\n",
    "    return x/y\n",
    "\n",
    "\n",
    "num_1 = 20\n",
    "num_2 = 10\n",
    "\n",
    "\n",
    "add_result  = add(num_1,num_2)\n",
    "print(add_result)\n",
    "sub_result = subtract(num_1,num_2)\n",
    "print(sub_result)\n",
    "multiply_result = multiply(num_1,num_2)\n",
    "print(multiply_result)\n",
    "divide_result = divide(num_1,num_2)\n",
    "print(divide_result)"
   ]
  },
  {
   "cell_type": "code",
   "execution_count": 2,
   "id": "6dcacdfc-00fa-49df-b52d-1b10ecb61bc4",
   "metadata": {},
   "outputs": [],
   "source": [
    "# logging is module which help us to track and record the log information"
   ]
  },
  {
   "cell_type": "code",
   "execution_count": 3,
   "id": "64420479-b78d-4cfe-b455-4bf210dfd3e7",
   "metadata": {},
   "outputs": [],
   "source": [
    "# log critical part of system documentation about runtime status of application"
   ]
  },
  {
   "cell_type": "code",
   "execution_count": 4,
   "id": "c5bf28ed-47f5-41d0-af1d-94be04c828d7",
   "metadata": {},
   "outputs": [],
   "source": [
    "import logging\n",
    "\n",
    "logging.basicConfig(filename=\"test1.log\",level = logging.INFO)\n",
    "\n",
    "def add(x,y):\n",
    "    return x+y\n",
    "\n",
    "def subtract(x,y):\n",
    "    return x-y\n",
    "\n",
    "def multiply(x,y):\n",
    "    return x*y\n",
    "\n",
    "def divide(x,y):\n",
    "    return x/y\n",
    "\n",
    "\n",
    "num_1 = 20\n",
    "num_2 = 10\n",
    "\n",
    "\n",
    "add_result = add(num_1,num_2)\n",
    "logging.debug(add_result)\n",
    "sub_result = subtract(num_1,num_2)\n",
    "logging.info(sub_result)\n",
    "multiply_result = multiply(num_1,num_2)\n",
    "logging.warning(multiply_result)\n",
    "divide_result = divide(num_1,num_2)\n",
    "logging.critical(divide_result)\n",
    "\n"
   ]
  },
  {
   "cell_type": "code",
   "execution_count": 5,
   "id": "aee35a7f-1791-4e6a-b11c-28c90d487235",
   "metadata": {},
   "outputs": [
    {
     "name": "stdout",
     "output_type": "stream",
     "text": [
      "name is valid\n"
     ]
    }
   ],
   "source": [
    "import logging\n",
    "\n",
    "logging.basicConfig(filename=\"demo.log\",level = logging.DEBUG,format== \" %(asctime)s  - %(levelname)s -  %(message)s \")\n",
    "\n",
    "def namecheck(name):\n",
    "    if len(name) < 2:\n",
    "        logging.debug(\" checking for name length \")\n",
    "        return \"invalid name\"\n",
    "    elif name.isspace():\n",
    "        logging.debug(\" checking for name has space \")\n",
    "        return \"invalid name\"\n",
    "    elif name.isalpha():\n",
    "        logging.debug(\" checking for name is alphabet \")\n",
    "        return \"valid name\"\n",
    "    elif name.replace(' ','').isalpha():\n",
    "        logging.debug(\"checking for full name\")\n",
    "        return \"name is valid\"\n",
    "    else:\n",
    "        logging.debug(\"failed all checks\")\n",
    "        return \"invalid name\"\n",
    "    \n",
    "    \n",
    "    \n",
    "result = namecheck(\"mohit yadav\")\n",
    "print(result)"
   ]
  },
  {
   "cell_type": "code",
   "execution_count": null,
   "id": "5327b16e-6752-4887-ade5-3fd5f18b2689",
   "metadata": {},
   "outputs": [],
   "source": []
  },
  {
   "cell_type": "code",
   "execution_count": 6,
   "id": "346aa10a-f836-47c7-8668-0ee22e4f0828",
   "metadata": {},
   "outputs": [
    {
     "name": "stdout",
     "output_type": "stream",
     "text": [
      "name is valid\n"
     ]
    }
   ],
   "source": [
    "print(namecheck(\"mohit yadav\"))"
   ]
  },
  {
   "cell_type": "code",
   "execution_count": 7,
   "id": "fad69e91-c58f-4206-9abb-873897d38ff1",
   "metadata": {},
   "outputs": [
    {
     "name": "stdout",
     "output_type": "stream",
     "text": [
      "invalid name\n"
     ]
    }
   ],
   "source": [
    "print(namecheck(\"mohit123\"))"
   ]
  },
  {
   "cell_type": "code",
   "execution_count": 8,
   "id": "55c63a6f-7a84-4ba8-932a-b612637bf308",
   "metadata": {},
   "outputs": [],
   "source": [
    "import os"
   ]
  },
  {
   "cell_type": "code",
   "execution_count": 9,
   "id": "f0189c46-d4bf-4259-bcbc-7621856682f0",
   "metadata": {},
   "outputs": [
    {
     "data": {
      "text/plain": [
       "'/home/jovyan/work'"
      ]
     },
     "execution_count": 9,
     "metadata": {},
     "output_type": "execute_result"
    }
   ],
   "source": [
    "pwd()"
   ]
  },
  {
   "cell_type": "code",
   "execution_count": 10,
   "id": "d32ae278-3b3a-4f90-b2e5-e57c54747a41",
   "metadata": {},
   "outputs": [],
   "source": [
    "# 1. create logger in your code\n",
    "# 2. create a function which can take any number of input as an argument and will return sum\n",
    "# 3. capture user input in log file\n",
    "# 4. read a log file from python code and show it in a console "
   ]
  },
  {
   "cell_type": "code",
   "execution_count": 15,
   "id": "a8df0c14-2262-48c8-83a8-6b80afa7531b",
   "metadata": {
    "tags": []
   },
   "outputs": [
    {
     "ename": "FileNotFoundError",
     "evalue": "[Errno 2] No such file or directory: 'test2.log'",
     "output_type": "error",
     "traceback": [
      "\u001b[0;31m---------------------------------------------------------------------------\u001b[0m",
      "\u001b[0;31mFileNotFoundError\u001b[0m                         Traceback (most recent call last)",
      "Cell \u001b[0;32mIn [15], line 13\u001b[0m\n\u001b[1;32m     10\u001b[0m         sum1 \u001b[38;5;241m=\u001b[39m sum1 \u001b[38;5;241m+\u001b[39m i\n\u001b[1;32m     11\u001b[0m     \u001b[38;5;28;01mreturn\u001b[39;00m sum1\n\u001b[0;32m---> 13\u001b[0m f \u001b[38;5;241m=\u001b[39m \u001b[38;5;28;43mopen\u001b[39;49m\u001b[43m(\u001b[49m\u001b[38;5;124;43m\"\u001b[39;49m\u001b[38;5;124;43mtest2.log\u001b[39;49m\u001b[38;5;124;43m\"\u001b[39;49m\u001b[43m,\u001b[49m\u001b[38;5;124;43m\"\u001b[39;49m\u001b[38;5;124;43mr\u001b[39;49m\u001b[38;5;124;43m\"\u001b[39;49m\u001b[43m)\u001b[49m\n\u001b[1;32m     14\u001b[0m \u001b[38;5;28mprint\u001b[39m(f\u001b[38;5;241m.\u001b[39mread())\n\u001b[1;32m     17\u001b[0m res \u001b[38;5;241m=\u001b[39m addition([\u001b[38;5;241m1\u001b[39m,\u001b[38;5;241m2\u001b[39m,\u001b[38;5;241m3\u001b[39m,\u001b[38;5;241m4\u001b[39m])\n",
      "\u001b[0;31mFileNotFoundError\u001b[0m: [Errno 2] No such file or directory: 'test2.log'"
     ]
    }
   ],
   "source": [
    "import logging as lg\n",
    "\n",
    "lg.basicConfig(filename=\"test2.log\",level = lg.ERROR)\n",
    "\n",
    "def addition(*args):\n",
    "    lg.info(\"this is my addtion function\")\n",
    "    sum1 = 0\n",
    "    for i in args:\n",
    "        lg.info(str(i))\n",
    "        sum1 = sum1 + i\n",
    "    return sum1\n",
    "\n",
    "f = open(\"test2.log\",\"r\")\n",
    "print(f.read())\n",
    "\n",
    "\n",
    "res = addition([1,2,3,4])"
   ]
  },
  {
   "cell_type": "code",
   "execution_count": 13,
   "id": "f65cce53-eacf-4bf1-a519-67004fc14614",
   "metadata": {},
   "outputs": [],
   "source": [
    "import math"
   ]
  },
  {
   "cell_type": "code",
   "execution_count": null,
   "id": "debea931-bb63-4300-9d50-c4bcf67dbeca",
   "metadata": {},
   "outputs": [],
   "source": [
    "math."
   ]
  },
  {
   "cell_type": "code",
   "execution_count": 3,
   "id": "4ee3d6bf-7b83-422b-b0fa-aaeff3f8fd91",
   "metadata": {},
   "outputs": [],
   "source": [
    "import os\n",
    "import logging\n",
    "\n",
    "logger=logging.getLogger(__name__)\n",
    "logger.setLevel(logging.DEBUG)\n",
    "\n",
    "f=logging.Formatter('%(asctime)s:%(name)s:%(levelname)s:%(message)s')\n",
    "\n",
    "fh=logging.FileHandler('saveTofile.log')\n",
    "fh.setFormatter(f)\n",
    "\n",
    "logger.addHandler(fh)\n",
    "\n",
    "#logging.basicConfig(filename='saveTofile.log',level=logging.DEBUG,format='%(asctime)s:%(levelname)s:%(message)s')\n",
    "\n",
    "\n",
    "def namecheck(name):\n",
    "    logger.debug(f'checking name \"{name}\"....')\n",
    "    if os.path.exists('data.txt'):\n",
    "        with open('data.txt','r') as readFile:\n",
    "            for line in readFile:\n",
    "                if line.lower().startswith(f'name: {name.lower()}'):\n",
    "                    logger.error(f'Name: \"{name}\" already exists')\n",
    "                    return False\n",
    "            if len(name) == 0:\n",
    "                logger.critical('Name cannot be blank')\n",
    "                return False\n",
    "            elif not name.isalpha():\n",
    "                logger.critical('name must be an alphabet')\n",
    "                return False\n",
    "            else:\n",
    "                logger.error(f'check successfull')\n",
    "                return True\n",
    "    else:\n",
    "        logger.debug('No data found')\n",
    "        return True\n",
    "\n",
    "\n",
    "def saveData(name,age,email):\n",
    "    logger.debug(f'Saving details of {name}...')\n",
    "    with open('data.txt','a') as appendFile:\n",
    "        appendFile.write(f'Name: {name} - Age: {age} - Email: {email}\\n')\n",
    "        print(f'Details saved successfully')\n",
    "\n",
    "logger.info('End of saveToFile Program')\n",
    "logger.debug('########################')"
   ]
  },
  {
   "cell_type": "code",
   "execution_count": 4,
   "id": "c4bbd955-955c-4432-ac0a-75cea7ed2d2f",
   "metadata": {},
   "outputs": [
    {
     "ename": "ModuleNotFoundError",
     "evalue": "No module named 'saveToFile'",
     "output_type": "error",
     "traceback": [
      "\u001b[0;31m---------------------------------------------------------------------------\u001b[0m",
      "\u001b[0;31mModuleNotFoundError\u001b[0m                       Traceback (most recent call last)",
      "Cell \u001b[0;32mIn [4], line 2\u001b[0m\n\u001b[1;32m      1\u001b[0m \u001b[38;5;28;01mimport\u001b[39;00m \u001b[38;5;21;01mlogging\u001b[39;00m\n\u001b[0;32m----> 2\u001b[0m \u001b[38;5;28;01mimport\u001b[39;00m \u001b[38;5;21;01msaveToFile\u001b[39;00m \u001b[38;5;28;01mas\u001b[39;00m \u001b[38;5;21;01mSTF\u001b[39;00m\n\u001b[1;32m      5\u001b[0m logger \u001b[38;5;241m=\u001b[39m logging\u001b[38;5;241m.\u001b[39mgetLogger(\u001b[38;5;18m__name__\u001b[39m)\n\u001b[1;32m      7\u001b[0m logger\u001b[38;5;241m.\u001b[39msetLevel(logging\u001b[38;5;241m.\u001b[39mDEBUG)\n",
      "\u001b[0;31mModuleNotFoundError\u001b[0m: No module named 'saveToFile'"
     ]
    }
   ],
   "source": [
    "import logging\n",
    "import saveToFile as STF\n",
    "\n",
    "\n",
    "logger = logging.getLogger(__name__)\n",
    "\n",
    "logger.setLevel(logging.DEBUG)\n",
    "\n",
    "f=logging.Formatter('%(levelname)s - %(message)s')\n",
    "\n",
    "fh = logging.FileHandler('employee.log')\n",
    "fh.setFormatter(f)\n",
    "\n",
    "logger.addHandler(fh)\n",
    "\n",
    "\n",
    "stream_handler = logging.StreamHandler()\n",
    "\n",
    "logger.addHandler(stream_handler)\n",
    "\n",
    "stream_handler.setFormatter(f)\n",
    "\n",
    "#logging.basicConfig(filename='employee.log',level=logging.DEBUG,format='%(asctime)s:%(levelname)s:%(message)s')\n",
    "logger.debug('Start of employee program')\n",
    "\n",
    "name = 'imran'\n",
    "age = 27\n",
    "email = 'imran@gmail.com'\n",
    "\n",
    "if STF.namecheck(name) is True:\n",
    "    STF.saveData(name,age,email)\n",
    "else:\n",
    "    logger.critical('Employee check failed')\n",
    "\n",
    "\n",
    "logger.debug('End of employee program')\n",
    "logger.debug('######################')"
   ]
  },
  {
   "cell_type": "code",
   "execution_count": null,
   "id": "d3f3c77a-13ee-47bf-973c-cc060e428f80",
   "metadata": {},
   "outputs": [],
   "source": []
  }
 ],
 "metadata": {
  "kernelspec": {
   "display_name": "Python 3 (ipykernel)",
   "language": "python",
   "name": "python3"
  },
  "language_info": {
   "codemirror_mode": {
    "name": "ipython",
    "version": 3
   },
   "file_extension": ".py",
   "mimetype": "text/x-python",
   "name": "python",
   "nbconvert_exporter": "python",
   "pygments_lexer": "ipython3",
   "version": "3.10.6"
  }
 },
 "nbformat": 4,
 "nbformat_minor": 5
}
